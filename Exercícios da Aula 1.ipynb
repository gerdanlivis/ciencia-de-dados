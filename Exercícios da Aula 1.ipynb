{
 "cells": [
  {
   "cell_type": "code",
   "execution_count": 15,
   "metadata": {},
   "outputs": [
    {
     "name": "stdin",
     "output_type": "stream",
     "text": [
      "Insira a sua altura:  1.79\n",
      "Insira o seu peso:  84\n"
     ]
    },
    {
     "name": "stdout",
     "output_type": "stream",
     "text": [
      "O seu IMC é igual a: 26.216410224399986\n"
     ]
    }
   ],
   "source": [
    "# Exercício 1 - Calculando o IMC\n",
    "\n",
    "altura = float(input('Insira a sua altura: '))\n",
    "peso = float(input('Insira o seu peso: '))\n",
    "IMC = (peso/altura**2)\n",
    "print('O seu IMC é igual a: ' + str(IMC))"
   ]
  },
  {
   "cell_type": "code",
   "execution_count": 2,
   "metadata": {},
   "outputs": [
    {
     "name": "stdout",
     "output_type": "stream",
     "text": [
      "*\n",
      "**\n",
      "***\n",
      "****\n",
      "*****\n"
     ]
    }
   ],
   "source": [
    "# Lista de exercícios\n",
    "\n",
    "## O que o código a seguir imprime?\n",
    "\n",
    "print('*\\n**\\n***\\n****\\n*****')"
   ]
  },
  {
   "cell_type": "code",
   "execution_count": 13,
   "metadata": {},
   "outputs": [
    {
     "name": "stdout",
     "output_type": "stream",
     "text": [
      "Letra A) x = 2\n",
      "Letra B) O valor de x + x é 4\n",
      "Letra C) x = \n",
      "5 = 5\n"
     ]
    }
   ],
   "source": [
    "# 2) O que aparece na janela do console, quando cada uma das instruções abaixo são executadas, para: x = 2 e y = 3? \n",
    "# Execute cada uma das linhas abaixos e, se necessário, faça os devidos ajustes no código.\n",
    "\n",
    "x = 2\n",
    "y = 3\n",
    "print('Letra A) x = ' + str(x))\n",
    "print('Letra B) O valor de x + x é ' + str(x + x))\n",
    "print('Letra C) x = ')\n",
    "print(str(x + y) + ' = ' + str(y + x))"
   ]
  },
  {
   "cell_type": "code",
   "execution_count": 24,
   "metadata": {},
   "outputs": [
    {
     "name": "stdin",
     "output_type": "stream",
     "text": [
      "Nome: Gerdan\n",
      "Sobrenome Livis\n",
      "Matricula 3710979\n"
     ]
    },
    {
     "name": "stdout",
     "output_type": "stream",
     "text": [
      "[3710979] Gerdan Livis\n"
     ]
    }
   ],
   "source": [
    "# 3) Escreva um programa que leia o nome, o sobrenome e o número de matrícula de um estudante. \n",
    "# Em seguida, formate e imprima os dados lidos da seguinte forma: [matrícula] nome sobrenome.\n",
    "\n",
    "nome = input('Nome:')\n",
    "sobrenome = input ('Sobrenome')\n",
    "Matricula = input ('Matricula')\n",
    "print('[{}] {} {}'.format(Matricula, nome, sobrenome))"
   ]
  },
  {
   "cell_type": "code",
   "execution_count": 20,
   "metadata": {},
   "outputs": [
    {
     "name": "stdin",
     "output_type": "stream",
     "text": [
      "Digite um número:  1\n",
      "Digite outro número:  2\n"
     ]
    },
    {
     "name": "stdout",
     "output_type": "stream",
     "text": [
      "A soma entre o número 1 e o número 2 é 3\n",
      "A subtração entre o número 1 e o número 2 é -1\n",
      "A multiplicação entre o número 1 e o número 2 é 2\n",
      "A divisão entre o número 1 e o número 2 é 0.5\n"
     ]
    }
   ],
   "source": [
    "# 4) Escreva um programa que solicite do usuário dois números,\n",
    "# e imprima o resultado da soma, subtração, multiplicação e divisão.\n",
    "\n",
    "n1 = int(input('Digite um número: '))\n",
    "n2 = int(input('Digite outro número: '))\n",
    "print('A soma entre o número ' + str(n1) + ' e o número ' + str(n2) + ' é ' + str(n1 + n2))\n",
    "print('A subtração entre o número ' + str(n1) + ' e o número ' + str(n2) + ' é ' + str(n1 - n2))\n",
    "print('A multiplicação entre o número ' + str(n1) + ' e o número ' + str(n2) + ' é ' + str(n1 * n2))\n",
    "print('A divisão entre o número ' + str(n1) + ' e o número ' + str(n2) + ' é ' + str(n1 / n2))"
   ]
  },
  {
   "cell_type": "code",
   "execution_count": 21,
   "metadata": {},
   "outputs": [
    {
     "name": "stdin",
     "output_type": "stream",
     "text": [
      "Digite o raio 10\n"
     ]
    },
    {
     "name": "stdout",
     "output_type": "stream",
     "text": [
      "O diâmetro da círculo é 20.0\n",
      "A circunferência do círculo 62.830000000000005\n",
      "A área do círculo é 314.15000000000003\n"
     ]
    }
   ],
   "source": [
    "# 5) Escreva um programa que receba como entrada o raio de um círculo e imprima o diâmetro, a circunferência e a área. \n",
    "# Para isso, utilize as fórmulas: diâmetro = 2r; circunferência = 2πr, área = πr².\n",
    "\n",
    "raio = float(input('Digite o raio'))\n",
    "pi = float(3.1415)\n",
    "print('O diâmetro da círculo é ' + str(2*raio))\n",
    "print('A circunferência do círculo ' + str(2*pi*raio))\n",
    "print('A área do círculo é ' + str(pi*raio**2))"
   ]
  },
  {
   "cell_type": "code",
   "execution_count": 1,
   "metadata": {},
   "outputs": [
    {
     "name": "stdin",
     "output_type": "stream",
     "text": [
      "Digite um número de 5 dígitos 123456\n"
     ]
    },
    {
     "name": "stdout",
     "output_type": "stream",
     "text": [
      "1 2 3 4 \n"
     ]
    }
   ],
   "source": [
    "# 6) Escreva um programa que receba como entrada um número de 5 dígitos, separe o número em dígitos\n",
    "# individuais e os imprima separados por 3 espaços cada um. Por exemplo, se o usuário digitar 42339, \n",
    "# o programa deverá imprimir: 4 2 3 3. Dica: utilize as operações de divisão e módulo para extrair cada dígito do número.\n",
    "\n",
    "n = str(input('Digite um número de 5 dígitos'))\n",
    "n1 = (n[0])\n",
    "n2 = (n[1])\n",
    "n3 = (n[2])\n",
    "n4 = (n[3])\n",
    "n5 = (n[4])\n",
    "print(n1 + ' ' + n2 + ' ' + n3 + ' ' + n4 + ' ')"
   ]
  },
  {
   "cell_type": "code",
   "execution_count": 11,
   "metadata": {},
   "outputs": [
    {
     "name": "stdin",
     "output_type": "stream",
     "text": [
      "Digite um número 20\n",
      "Digite outro número 3\n"
     ]
    },
    {
     "name": "stdout",
     "output_type": "stream",
     "text": [
      "O número 20 é múltiplo do número 3?\n",
      "não\n"
     ]
    }
   ],
   "source": [
    "# Escreva um programa que leia dois números inteiros que determine e verifique se o primeiro\n",
    "# é um múltiplo do segundo. Por exemplo: se o usuário digitar 15 e 3, o primeiro número será\n",
    "# múltiplo do segundo; se o usuário digitar 2 e 4, o primeiro número não será múltiplo do segundo. \n",
    "# Dica: use o operador módulo para obter o resto da divisão.\n",
    "\n",
    "n = int(input('Digite um número'))\n",
    "n1 = int(input('Digite outro número'))\n",
    "d = int(n%n1)\n",
    "\n",
    "# se o resto da divisão for igual a zero, o primeiro número é múltiplo do segundo\n",
    "# condição 1: se n%n1=0, sim\n",
    "# condição 2: se n%n1<>0, não\n",
    "\n",
    "print('O número {} é múltiplo do número {}?'.format(n,n1))\n",
    "print('sim' if d==0 else 'não')"
   ]
  },
  {
   "cell_type": "code",
   "execution_count": 45,
   "metadata": {},
   "outputs": [
    {
     "name": "stdout",
     "output_type": "stream",
     "text": [
      "Número | Quadrado | Cubo\n",
      "0      |0         |0\n",
      "1      |1         |1\n",
      "2      |4         |8\n",
      "3      |9         |27\n",
      "4      |16        |64\n",
      "5      |25        |125\n",
      "6      |36        |216\n",
      "7      |49        |343\n",
      "8      |64        |512\n",
      "9      |81        |729\n",
      "10     |100       |1000\n"
     ]
    }
   ],
   "source": [
    "# Escreva um programa que calcule o quadrado e o cubo dos números de 0 a 10, e imprima\n",
    "# os valores em forma de tabela. Número | Quadrado | Cubo\n",
    "\n",
    "n = 0\n",
    "n1 = 1\n",
    "n2 = 2\n",
    "n3 = 3\n",
    "n4 = 4\n",
    "n5 = 5\n",
    "n6 = 6\n",
    "n7 = 7\n",
    "n8 = 8\n",
    "n9 = 9\n",
    "n10 = 10 \n",
    "print('Número | Quadrado | Cubo')\n",
    "print(str(n)+'      |'+ str(n**2)+'         |'+ str(n**3))\n",
    "print(str(n1)+'      |'+ str(n1**2)+'         |'+ str(n1**3))\n",
    "print(str(n2)+'      |'+ str(n2*2)+'         |'+ str(n2**3))\n",
    "print(str(n3)+'      |'+ str(n3**2)+'         |'+ str(n3**3))\n",
    "print(str(n4)+'      |'+ str(n4**2)+'        |'+ str(n4**3))\n",
    "print(str(n5)+'      |'+ str(n5**2)+'        |'+ str(n5**3))\n",
    "print(str(n6)+'      |'+ str(n6**2)+'        |'+ str(n6**3))\n",
    "print(str(n7)+'      |'+ str(n7**2)+'        |'+ str(n7**3))\n",
    "print(str(n8)+'      |'+ str(n8**2)+'        |'+ str(n8**3))\n",
    "print(str(n9)+'      |'+ str(n9**2)+'        |'+ str(n9**3))\n",
    "print(str(n10)+'     |'+ str(n10**2)+'       |'+ str(n10**3))\n"
   ]
  },
  {
   "cell_type": "code",
   "execution_count": 3,
   "metadata": {},
   "outputs": [
    {
     "name": "stdin",
     "output_type": "stream",
     "text": [
      "Digite um número:  1\n",
      "Digite outro número:  2\n"
     ]
    },
    {
     "name": "stdout",
     "output_type": "stream",
     "text": [
      "O maior número digitado foi 2\n"
     ]
    }
   ],
   "source": [
    "# Escreva um programa que receba dois números inteiros como entrada e verifica qual deles é o maior.\n",
    "\n",
    "n = int(input('Digite um número: '))\n",
    "o = int(input('Digite outro número: '))\n",
    "if n<o:\n",
    "    maior = o\n",
    "if n>o:\n",
    "    maior = n\n",
    "print('O maior número digitado foi {}'.format(maior))"
   ]
  },
  {
   "cell_type": "code",
   "execution_count": 5,
   "metadata": {},
   "outputs": [
    {
     "name": "stdin",
     "output_type": "stream",
     "text": [
      "Digite uma letra qualquer:  b\n"
     ]
    }
   ],
   "source": [
    "# Escreva um programa que leia apenas uma letra do alfabeto como entrada e classifique-a como\n",
    "# vogal ou consoante. Seu programa deverá aceitar como entrada apenas um caractere, ou seja, se\n",
    "# o usuário digitar dois ou mais caracteres, o sistema deverá informar ao usuário a entrada rejeitada.\n",
    "\n",
    "n = str(input('Digite uma letra qualquer: '))\n",
    "\n",
    "def vogal(n):\n",
    "    if n == \"a\" or x == \"e\" or x == \"i\" or x == \"o\" or x == \"u\" or x== \"A\" or x == \"E\" or x == \"I\" or x == \"O\" or x == \"U\":\n",
    "        print('A letra digitada é uma vogal')\n",
    "    else:\n",
    "        print('A letra digitada é uma consoante')"
   ]
  },
  {
   "cell_type": "code",
   "execution_count": 1,
   "metadata": {},
   "outputs": [
    {
     "name": "stdin",
     "output_type": "stream",
     "text": [
      "Digite um número de 4 dígitos 1234\n"
     ]
    },
    {
     "name": "stdout",
     "output_type": "stream",
     "text": [
      "0189\n"
     ]
    }
   ],
   "source": [
    "# 1) Uma empresa quer transmitir dados pelo telefone, mas está preocupada com a interceptação telefônica. \n",
    "# Todos os seus dados são transmitidos como inteiros de quatro dígitos. Ela pediu para que você escreva um\n",
    "# programa que criptografe seus dados, para que eles possam ser transmitidos com mais segurança.\n",
    "# Seu aplicativo deve ler um inteiro de quatro dígitos fornecidos pelo usuário e criptografá-lo da seguinte forma:\n",
    "# substitua cada dígitos por (a soma desse dígitos mais 7) módulo 10. Em seguida, troque o primeiro dígito pelo \n",
    "# terceiro e troque o segundo dígito pelo quarto e imprima o inteiro criptografado.\n",
    "\n",
    "# 1 - inserir número de 4 dígitos (meu sistema vai ler somente os 4 primeiros números)\n",
    "# \n",
    "\n",
    "n = input('Digite um número de 4 dígitos')\n",
    "n1 = ((int(n[0]))+7)%10\n",
    "n2 = ((int(n[1]))+7)%10\n",
    "n3 = ((int(n[2]))+7)%10\n",
    "n4 = ((int(n[3]))+7)%10\n",
    "\n",
    "print(str(n3)+str(n4)+str(n1)+str(n2))"
   ]
  },
  {
   "cell_type": "code",
   "execution_count": 2,
   "metadata": {},
   "outputs": [
    {
     "name": "stdout",
     "output_type": "stream",
     "text": [
      "0 é um número par? Sim\n",
      "1 é um número par? Não\n",
      "2 é um número par? Sim\n",
      "3 é um número par? Não\n",
      "4 é um número par? Sim\n",
      "5 é um número par? Não\n",
      "6 é um número par? Sim\n",
      "7 é um número par? Não\n",
      "8 é um número par? Sim\n",
      "9 é um número par? Não\n",
      "10 é um número par? Sim\n"
     ]
    }
   ],
   "source": [
    "# 2) Implemente a função par que retorna verdadeiro se um número inteiro passado como parâmetro for par\n",
    "# ou falso caso ele seja ímpar. Teste seu programa chamando a função para verificar os números de 0 à 10.\n",
    "\n",
    "def par(intei):    \n",
    "    if ((intei%2) == 0):\n",
    "        return \"Sim\"\n",
    "    else:\n",
    "        return \"Não\"\n",
    "    \n",
    "for i in range(11):\n",
    "    print(str(i) + \" é um número par? \" + str(par(i)))"
   ]
  },
  {
   "cell_type": "code",
   "execution_count": 12,
   "metadata": {},
   "outputs": [
    {
     "name": "stdin",
     "output_type": "stream",
     "text": [
      "Digite o comprimento de um lado de um triângulo 1\n",
      "Digite o comprimento de outro lado de um triângulo 5\n",
      "Digite o comprimento do terceiro lado de um triângulo 20\n"
     ]
    },
    {
     "name": "stdout",
     "output_type": "stream",
     "text": [
      "Não pode ser um triangulo\n"
     ]
    }
   ],
   "source": [
    "# 3) Escreva um programa que leia 3 números inteiros referente ao comprimento dos lados de um triângulo e classifique\n",
    "# como: triângulo equilátero, isósceles ou escaleno.\n",
    "\n",
    "l1 = int(input('Digite o comprimento de um lado de um triângulo'))\n",
    "l2 = int(input('Digite o comprimento de outro lado de um triângulo'))\n",
    "l3 = int(input('Digite o comprimento do terceiro lado de um triângulo'))\n",
    "\n",
    "if l1 > (l2 + l3) or l2 > (l1 + l3) or l3 > (l1 + l2):\n",
    "    print ('Não pode ser um triangulo')\n",
    "elif l1 == l2 == l3:\n",
    "    print ('O triângulo é Equilatero')\n",
    "elif l1 == l2 or l1 == l3 or l2 == l3:\n",
    "    print ('O triângulo é Isósceles')\n",
    "else:\n",
    "    print ('O triângulo é Escaleno')"
   ]
  },
  {
   "cell_type": "code",
   "execution_count": 13,
   "metadata": {},
   "outputs": [
    {
     "name": "stdin",
     "output_type": "stream",
     "text": [
      "Digite um número de 8 dígitos 456879\n"
     ]
    },
    {
     "name": "stdout",
     "output_type": "stream",
     "text": [
      "456-879\n",
      "['4', '5', '6', '8', '7', '9']\n"
     ]
    }
   ],
   "source": [
    "# 4) Escreva um programa que aceita um número como entrada e insere hífens (-) entre dois números pares. \n",
    "# Por exemplo, se receber o número 02368859 como entrada, a saída do programa deverá ser: 0-236-8-859.\n",
    "\n",
    "\n",
    "n = input('Digite um número de 8 dígitos')\n",
    "lista = []\n",
    "saida = \"\"\n",
    "par = False\n",
    "\n",
    "for digito in n:\n",
    "    lista.append(digito)\n",
    "    \n",
    "for i, item in enumerate(lista):\n",
    "    if (par == True):\n",
    "        if ((int(lista[i])%2) == 0):\n",
    "            par = True\n",
    "            saida = saida + \"-\" + lista[i]\n",
    "        else:\n",
    "            par = False\n",
    "            saida = saida + lista[i]\n",
    "    elif ((int(lista[i])%2) == 0):\n",
    "        par = True\n",
    "        saida = saida + lista[i]\n",
    "    else:\n",
    "        par = False\n",
    "        saida = saida + lista[i]\n",
    "\n",
    "print(saida)\n",
    "print(lista)"
   ]
  },
  {
   "cell_type": "code",
   "execution_count": 7,
   "metadata": {},
   "outputs": [
    {
     "name": "stdin",
     "output_type": "stream",
     "text": [
      "Digite algo de 2 a 5 caractere:  12365\n"
     ]
    },
    {
     "name": "stdout",
     "output_type": "stream",
     "text": [
      "['1', '2', '3', '6', '5']\n"
     ]
    }
   ],
   "source": [
    "# 5) Escreva um programa que encontre o item mais frequente de um vetor. Exemplo: [2, 7, 7, 7, ‘#’, ‘#’, ‘#’, ‘@’, 3, ‘#’, 6] \n",
    "# // Saída: # aparece 4 vezes\n",
    "\n",
    "vetor = list(input('Digite algo de 2 a 5 caractere: '))\n",
    "print (vetor)\n",
    "\n",
    "\n",
    "# não entendi ainda, vou enviar depois, quando enteder"
   ]
  },
  {
   "cell_type": "code",
   "execution_count": 12,
   "metadata": {},
   "outputs": [
    {
     "name": "stdin",
     "output_type": "stream",
     "text": [
      "Digite um número de três dígitos 370\n"
     ]
    },
    {
     "name": "stdout",
     "output_type": "stream",
     "text": [
      "O número 370 é um número de Armstrong.\n"
     ]
    }
   ],
   "source": [
    "# 6) Um número de Armstrong de 3 dígitos é um inteiro pelo qual a soma dos cubos dos seus dígitos é igual ao seu número. \n",
    "# Por exemplo: o número inteiro 371 é um número de Armstrong, porque 3³ + 7³ + 1³ = 371. Escreva um programa que verifique \n",
    "# se um número de 3 dígitos fornecido como entrada é um número de Armstrong.\n",
    "\n",
    "\n",
    "# if número informado = a soma dos cubos dele\n",
    "\n",
    "# soma dos cubos - terei se separar cada número, igual exercício 1, achar o (cubo) ---> cubo = n1**3+n2**3+n3**3\n",
    "#\n",
    "# if \n",
    "\n",
    "# é um número armstrong\n",
    "# else \n",
    "# não é um número armstrong\n",
    "\n",
    "n = input('Digite um número de três dígitos')\n",
    "n1 = (int(n[0]))\n",
    "n2 = (int(n[1]))\n",
    "n3 = (int(n[2]))\n",
    "cubo = (n1**3)+(n2**3)+(n3**3)\n",
    "# if cubo == a soma de n1, n2 e n3 for igual a n1n2n3\n",
    "\n",
    "if (cubo == int(n)):\n",
    "    print('O número {} é um número de Armstrong.'.format(n))\n",
    "else:\n",
    "    print('O número {} não é um número de Armstrong.'.format(n))"
   ]
  },
  {
   "cell_type": "code",
   "execution_count": 5,
   "metadata": {},
   "outputs": [
    {
     "name": "stdin",
     "output_type": "stream",
     "text": [
      "Digite uma frase curta Ciencia de Dados\n"
     ]
    },
    {
     "name": "stdout",
     "output_type": "stream",
     "text": [
      "A frase digitada tem 7 vogais.\n"
     ]
    }
   ],
   "source": [
    "# 7) Escreva uma função ue receba uma string e conte o número de vogais dentro dela, por exemplo: entrada: \n",
    "# ‘Ciência de Dados’, saída: 7 vogais\n",
    "\n",
    "frase = str(input('Digite uma frase curta'))\n",
    "\n",
    "def conta_vogais(string):\n",
    "    string = string.lower() # para que a comparação não seja sensível a maiuscula/minuscula\n",
    "    vogais = 'aeiou'\n",
    "    return sum(string.count(i) for i in vogais)\n",
    "\n",
    "quant_vogais = (conta_vogais(frase))\n",
    "print('A frase digitada tem {} vogais.'.format(quant_vogais))"
   ]
  },
  {
   "cell_type": "code",
   "execution_count": 18,
   "metadata": {},
   "outputs": [
    {
     "name": "stdin",
     "output_type": "stream",
     "text": [
      "Escolha um número da lista 5\n"
     ]
    },
    {
     "name": "stdout",
     "output_type": "stream",
     "text": [
      "A posição na lista do 5 é 0\n"
     ]
    }
   ],
   "source": [
    "# 8) Implemente em Python o algoritmo de Busca Binária\n",
    "\n",
    "\n",
    "lista = [5, 8, 11, 16, 21, 27, 30, 33, 41, 65, 89, 91, 92, 100]\n",
    "\n",
    "def busca_binaria(lista, numero):\n",
    "    minimo = 0\n",
    "    maximo = len(lista)-1\n",
    "    posicao = (minimo+maximo)//2\n",
    "    while (lista[posicao] != numero):\n",
    "        if (lista[posicao] > numero):\n",
    "            maximo = posicao - 1\n",
    "        else:\n",
    "            minimo = posicao + 1\n",
    "        posicao = (minimo+maximo)//2\n",
    "    return posicao\n",
    "\n",
    "numero = int(input('Escolha um número da lista'))\n",
    "resultado = busca_binaria(lista, numero)\n",
    "\n",
    "print('A posição na lista do ' + str(numero) + ' é ' + str(resultado))"
   ]
  },
  {
   "cell_type": "code",
   "execution_count": 19,
   "metadata": {},
   "outputs": [
    {
     "name": "stdin",
     "output_type": "stream",
     "text": [
      "Digite algo:  g123\n"
     ]
    },
    {
     "name": "stdout",
     "output_type": "stream",
     "text": [
      "O tipo primitivo desse valor é  <class 'str'>\n",
      "É um número?  False\n",
      "É alfabético? False\n",
      "É alfanumérico? True\n"
     ]
    }
   ],
   "source": [
    "# 9) Escreva uma função que receba algum valor como parâmetro e retorne seu tipo\n",
    "\n",
    "a = input('Digite algo: ')\n",
    "print('O tipo primitivo desse valor é ', type(a))\n",
    "print('É um número? ', a.isnumeric())\n",
    "print('É alfabético?', a.isalpha())\n",
    "print('É alfanumérico?', a.isalnum())"
   ]
  },
  {
   "cell_type": "code",
   "execution_count": 20,
   "metadata": {},
   "outputs": [
    {
     "name": "stdout",
     "output_type": "stream",
     "text": [
      "[1, 2, 3, 4, 5, 6, 7, 8, 9]\n",
      "[2, 8]\n"
     ]
    }
   ],
   "source": [
    "#### 10) Escreva uma função que receba um lista numérica como parâmetro e retorne os segundos maiores e menores \n",
    "# números da sequência, por exemplo: entrada [1, 2, 3, 4, 5, 6, 7, 8, 9], saída [2, 8].\n",
    "\n",
    "\n",
    "lista = [1, 2, 3, 4, 5, 6, 7, 8, 9]\n",
    "\n",
    "def smenor_smaior(lista):\n",
    "    ordenada = sorted(lista)\n",
    "    resultado = [ordenada[1], ordenada[len(ordenada)-2]]\n",
    "    return resultado\n",
    "\n",
    "print(lista)\n",
    "print(smenor_smaior(lista))\n",
    "\n",
    "\n"
   ]
  },
  {
   "cell_type": "code",
   "execution_count": 21,
   "metadata": {},
   "outputs": [
    {
     "name": "stdin",
     "output_type": "stream",
     "text": [
      "Digite algo:  123\n"
     ]
    },
    {
     "name": "stdout",
     "output_type": "stream",
     "text": [
      "321\n"
     ]
    }
   ],
   "source": [
    "# 11) Escreva uma função que receba um número inteiro como entrada (px.: 32243) e retorne o número invertido (px.: 34223).\n",
    "\n",
    "algo = input('Digite algo: ')\n",
    "print(algo[::-1])"
   ]
  }
 ],
 "metadata": {
  "kernelspec": {
   "display_name": "Python 3",
   "language": "python",
   "name": "python3"
  },
  "language_info": {
   "codemirror_mode": {
    "name": "ipython",
    "version": 3
   },
   "file_extension": ".py",
   "mimetype": "text/x-python",
   "name": "python",
   "nbconvert_exporter": "python",
   "pygments_lexer": "ipython3",
   "version": "3.7.1"
  }
 },
 "nbformat": 4,
 "nbformat_minor": 2
}
